{
 "cells": [
  {
   "cell_type": "code",
   "execution_count": 1,
   "metadata": {},
   "outputs": [
    {
     "name": "stdout",
     "output_type": "stream",
     "text": [
      "<class 'pandas.core.frame.DataFrame'>\n",
      "RangeIndex: 2500 entries, 0 to 2499\n",
      "Data columns (total 6 columns):\n",
      " #   Column       Non-Null Count  Dtype  \n",
      "---  ------       --------------  -----  \n",
      " 0   Temperature  2500 non-null   float64\n",
      " 1   Humidity     2500 non-null   float64\n",
      " 2   Wind_Speed   2500 non-null   float64\n",
      " 3   Cloud_Cover  2500 non-null   float64\n",
      " 4   Pressure     2500 non-null   float64\n",
      " 5   Rain         2500 non-null   object \n",
      "dtypes: float64(5), object(1)\n",
      "memory usage: 117.3+ KB\n",
      "None\n"
     ]
    },
    {
     "data": {
      "text/html": [
       "<div>\n",
       "<style scoped>\n",
       "    .dataframe tbody tr th:only-of-type {\n",
       "        vertical-align: middle;\n",
       "    }\n",
       "\n",
       "    .dataframe tbody tr th {\n",
       "        vertical-align: top;\n",
       "    }\n",
       "\n",
       "    .dataframe thead th {\n",
       "        text-align: right;\n",
       "    }\n",
       "</style>\n",
       "<table border=\"1\" class=\"dataframe\">\n",
       "  <thead>\n",
       "    <tr style=\"text-align: right;\">\n",
       "      <th></th>\n",
       "      <th>Temperature</th>\n",
       "      <th>Humidity</th>\n",
       "      <th>Wind_Speed</th>\n",
       "      <th>Cloud_Cover</th>\n",
       "      <th>Pressure</th>\n",
       "      <th>Rain</th>\n",
       "    </tr>\n",
       "  </thead>\n",
       "  <tbody>\n",
       "    <tr>\n",
       "      <th>0</th>\n",
       "      <td>23.720338</td>\n",
       "      <td>89.592641</td>\n",
       "      <td>7.335604</td>\n",
       "      <td>50.501694</td>\n",
       "      <td>103237.87590</td>\n",
       "      <td>1</td>\n",
       "    </tr>\n",
       "    <tr>\n",
       "      <th>1</th>\n",
       "      <td>27.879734</td>\n",
       "      <td>46.489704</td>\n",
       "      <td>5.952484</td>\n",
       "      <td>4.990053</td>\n",
       "      <td>99261.41895</td>\n",
       "      <td>0</td>\n",
       "    </tr>\n",
       "    <tr>\n",
       "      <th>2</th>\n",
       "      <td>25.069084</td>\n",
       "      <td>83.072843</td>\n",
       "      <td>1.371992</td>\n",
       "      <td>14.855784</td>\n",
       "      <td>100723.16200</td>\n",
       "      <td>0</td>\n",
       "    </tr>\n",
       "    <tr>\n",
       "      <th>3</th>\n",
       "      <td>23.622080</td>\n",
       "      <td>74.367758</td>\n",
       "      <td>7.050551</td>\n",
       "      <td>67.255282</td>\n",
       "      <td>98263.20127</td>\n",
       "      <td>1</td>\n",
       "    </tr>\n",
       "    <tr>\n",
       "      <th>4</th>\n",
       "      <td>20.591370</td>\n",
       "      <td>96.858822</td>\n",
       "      <td>4.643921</td>\n",
       "      <td>47.676444</td>\n",
       "      <td>98082.51417</td>\n",
       "      <td>0</td>\n",
       "    </tr>\n",
       "  </tbody>\n",
       "</table>\n",
       "</div>"
      ],
      "text/plain": [
       "   Temperature   Humidity  Wind_Speed  Cloud_Cover      Pressure  Rain\n",
       "0    23.720338  89.592641    7.335604    50.501694  103237.87590     1\n",
       "1    27.879734  46.489704    5.952484     4.990053   99261.41895     0\n",
       "2    25.069084  83.072843    1.371992    14.855784  100723.16200     0\n",
       "3    23.622080  74.367758    7.050551    67.255282   98263.20127     1\n",
       "4    20.591370  96.858822    4.643921    47.676444   98082.51417     0"
      ]
     },
     "execution_count": 1,
     "metadata": {},
     "output_type": "execute_result"
    }
   ],
   "source": [
    "import pandas as pd\n",
    "import numpy as np\n",
    "from sklearn.model_selection import train_test_split\n",
    "from imblearn.over_sampling import SMOTE\n",
    "import xgboost as xgb\n",
    "from sklearn.metrics import accuracy_score, classification_report\n",
    "\n",
    "# Load the dataset\n",
    "data_path = \"D:\\College\\sem 6\\chsw\\Major Project\\weather_forecast_data.csv\"\n",
    "df = pd.read_csv(data_path)\n",
    "\n",
    "# Display dataset info\n",
    "print(df.info())\n",
    "\n",
    "# Assuming 'rain' is the target column\n",
    "target_column = \"Rain\"\n",
    "if 'Rain' in df.columns:\n",
    "    df['Rain'] = df['Rain'].map({'rain': 1, 'no rain': 0})\n",
    "\n",
    "df.head()\n"
   ]
  },
  {
   "cell_type": "code",
   "execution_count": 2,
   "metadata": {},
   "outputs": [
    {
     "name": "stdout",
     "output_type": "stream",
     "text": [
      "Class distribution after SMOTE:\n",
      " Rain\n",
      "1    2186\n",
      "0    2186\n",
      "Name: count, dtype: int64\n"
     ]
    }
   ],
   "source": [
    "X = df.drop(columns=[target_column])\n",
    "y = df[target_column]\n",
    "\n",
    "# Apply SMOTE to handle class imbalance\n",
    "smote = SMOTE(sampling_strategy='auto', random_state=42)\n",
    "X_resampled, y_resampled = smote.fit_resample(X, y)\n",
    "\n",
    "# Split data into training and testing sets\n",
    "X_train, X_test, y_train, y_test = train_test_split(\n",
    "    X_resampled, y_resampled, test_size=0.2, random_state=42\n",
    ")\n",
    "print(\"Class distribution after SMOTE:\\n\", pd.Series(y_resampled).value_counts())\n"
   ]
  },
  {
   "cell_type": "code",
   "execution_count": 7,
   "metadata": {},
   "outputs": [
    {
     "data": {
      "image/png": "[encoded data removed]",
      "text/plain": [
       "<Figure size 800x600 with 2 Axes>"
      ]
     },
     "metadata": {},
     "output_type": "display_data"
    },
    {
     "name": "stdout",
     "output_type": "stream",
     "text": [
      "Model Accuracy: 0.9989\n",
      "Classification Report:\n",
      "               precision    recall  f1-score   support\n",
      "\n",
      "           0       1.00      1.00      1.00       464\n",
      "           1       1.00      1.00      1.00       411\n",
      "\n",
      "    accuracy                           1.00       875\n",
      "   macro avg       1.00      1.00      1.00       875\n",
      "weighted avg       1.00      1.00      1.00       875\n",
      "\n"
     ]
    }
   ],
   "source": [
    "import matplotlib.pyplot as plt\n",
    "from sklearn.metrics import confusion_matrix, ConfusionMatrixDisplay\n",
    "model = xgb.XGBClassifier(n_estimators=100, learning_rate=0.1, random_state=42)\n",
    "model.fit(X_train, y_train)\n",
    "from sklearn.metrics import confusion_matrix, ConfusionMatrixDisplay\n",
    "\n",
    "# Make predictions\n",
    "y_pred = model.predict(X_test)\n",
    "cm = confusion_matrix(y_test, y_pred)\n",
    "disp = ConfusionMatrixDisplay(confusion_matrix=cm, display_labels=[\"no\", \"yes\"])\n",
    "fig, ax = plt.subplots(figsize=(8, 6))  # Adjust size as needed\n",
    "disp.plot(ax=ax, cmap=\"Blues\", values_format='d')  # 'd' = integer format\n",
    "plt.title(\"Confusion Matrix\", fontsize=16)\n",
    "plt.xlabel(\"Predicted Label\", fontsize=14)\n",
    "plt.ylabel(\"True Label\", fontsize=14)\n",
    "plt.xticks(fontsize=12)\n",
    "plt.yticks(fontsize=12)\n",
    "plt.grid(False)\n",
    "plt.show()\n",
    "\n",
    "# Evaluate the model\n",
    "accuracy = accuracy_score(y_test, y_pred)\n",
    "print(f\"Model Accuracy: {accuracy:.4f}\")\n",
    "print(\"Classification Report:\\n\", classification_report(y_test, y_pred))"
   ]
  },
  {
   "cell_type": "code",
   "execution_count": 4,
   "metadata": {},
   "outputs": [
    {
     "name": "stdout",
     "output_type": "stream",
     "text": [
      "X_train columns: ['Temperature', 'Humidity', 'Wind_Speed', 'Cloud_Cover', 'Pressure']\n",
      "Custom input columns: ['Temperature', 'Humidity', 'Wind_Speed', 'Cloud_Cover', 'Pressure']\n",
      "Predicted Rain: 1\n"
     ]
    }
   ],
   "source": [
    "custom_input = {\n",
    "    \"Temperature\": 23.72, \n",
    "    \"Humidity\": 89.6, \n",
    "    \"Wind_Speed\": 7.33, \n",
    "    \"Cloud_Cover\": 50.5,\n",
    "    \"Pressure\": 1032.379\n",
    "}\n",
    "custom_df = pd.DataFrame([custom_input])\n",
    "print(\"X_train columns:\", list(X_train.columns))\n",
    "print(\"Custom input columns:\", list(custom_df.columns))\n",
    "\n",
    "# Ensure column order matches training data\n",
    "custom_df = custom_df.reindex(columns=X_train.columns, fill_value=0)\n",
    "predicted_rain = model.predict(custom_df)\n",
    "print(\"Predicted Rain:\", predicted_rain[0])  # 0 or 1 (No Rain or Rain)\n",
    "\n"
   ]
  },
  {
   "cell_type": "code",
   "execution_count": 5,
   "metadata": {},
   "outputs": [
    {
     "name": "stdout",
     "output_type": "stream",
     "text": [
      "Model saved as xgboost_rainfall_model.sav\n"
     ]
    }
   ],
   "source": [
    "import joblib\n",
    "\n",
    "# Save the trained model\n",
    "model_filename = \"xgboost_rainfall_model.sav\"\n",
    "joblib.dump(model, model_filename)\n",
    "\n",
    "print(f\"Model saved as {model_filename}\")\n"
   ]
  }
 ],
 "metadata": {
  "kernelspec": {
   "display_name": "Python 3",
   "language": "python",
   "name": "python3"
  },
  "language_info": {
   "codemirror_mode": {
    "name": "ipython",
    "version": 3
   },
   "file_extension": ".py",
   "mimetype": "text/x-python",
   "name": "python",
   "nbconvert_exporter": "python",
   "pygments_lexer": "ipython3",
   "version": "3.11.2"
  }
 },
 "nbformat": 4,
 "nbformat_minor": 2
}
